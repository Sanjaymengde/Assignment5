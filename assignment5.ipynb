{
 "cells": [
  {
   "cell_type": "markdown",
   "id": "2f8283ca-afdb-4afe-b6a2-e9b49b988390",
   "metadata": {},
   "source": [
    "Q1, Create a vehicle class with an init method having instance variables as name_of_vehicle, max_speed\n",
    "and average_of_vehicle."
   ]
  },
  {
   "cell_type": "code",
   "execution_count": 20,
   "id": "4ad63a75-1e0d-40b2-b719-47ddf0ab90f8",
   "metadata": {},
   "outputs": [],
   "source": [
    "class vehicle:\n",
    "    \n",
    "    def __init__(self,name_of_vehicle,max_speed,average_of_vehicle):\n",
    "        self.name=name_of_vehicle\n",
    "        self.speed=max_speed\n",
    "        self.average=average_of_vehicle\n",
    "        \n",
    "    def vehicle_details(self):\n",
    "        return self.name,self.speed,self.average"
   ]
  },
  {
   "cell_type": "code",
   "execution_count": 21,
   "id": "4c24f536-27f2-42c3-8b78-4599a10b6a8e",
   "metadata": {},
   "outputs": [],
   "source": [
    "v=vehicle(\"skoda\",220,22)"
   ]
  },
  {
   "cell_type": "code",
   "execution_count": 12,
   "id": "91688250-85c5-45ab-a4ee-753d9777db55",
   "metadata": {},
   "outputs": [
    {
     "data": {
      "text/plain": [
       "220"
      ]
     },
     "execution_count": 12,
     "metadata": {},
     "output_type": "execute_result"
    }
   ],
   "source": [
    "v.speed"
   ]
  },
  {
   "cell_type": "code",
   "execution_count": 14,
   "id": "696ac791-166f-4836-bd57-d3023a889c4c",
   "metadata": {},
   "outputs": [
    {
     "data": {
      "text/plain": [
       "'skoda'"
      ]
     },
     "execution_count": 14,
     "metadata": {},
     "output_type": "execute_result"
    }
   ],
   "source": [
    "v.name"
   ]
  },
  {
   "cell_type": "code",
   "execution_count": 15,
   "id": "bb7245fe-5111-4f8f-964a-f797933f3e73",
   "metadata": {},
   "outputs": [
    {
     "data": {
      "text/plain": [
       "22"
      ]
     },
     "execution_count": 15,
     "metadata": {},
     "output_type": "execute_result"
    }
   ],
   "source": [
    "v.average"
   ]
  },
  {
   "cell_type": "markdown",
   "id": "c4460b77-2b17-4d4f-893f-a0b5b48aae7f",
   "metadata": {},
   "source": [
    "Q2. Create a child class car from the vehicle class created in Que 1, which will inherit the vehicle class.\n",
    "Create a method named seating_capacity which takes capacity as an argument and returns the name of\n",
    "the vehicle and its seating capacity."
   ]
  },
  {
   "cell_type": "code",
   "execution_count": 28,
   "id": "ece6a38a-dfd1-4988-8426-516137f82362",
   "metadata": {},
   "outputs": [],
   "source": [
    "class vehicle:\n",
    "    def vehicle1(self):\n",
    "        print(\"this is my vehicle\")"
   ]
  },
  {
   "cell_type": "code",
   "execution_count": 29,
   "id": "cf6539c8-0b97-4aa6-9473-0f1fe915b0db",
   "metadata": {},
   "outputs": [],
   "source": [
    "class car(vehicle):\n",
    "    pass"
   ]
  },
  {
   "cell_type": "code",
   "execution_count": 30,
   "id": "452b17a9-604f-48ea-b8e9-dbdb8f96a5db",
   "metadata": {},
   "outputs": [],
   "source": [
    "car_obj=car()"
   ]
  },
  {
   "cell_type": "code",
   "execution_count": 32,
   "id": "aa82dfab-332d-4153-937d-1219bfdfe553",
   "metadata": {},
   "outputs": [
    {
     "name": "stdout",
     "output_type": "stream",
     "text": [
      "this is my vehicle\n"
     ]
    }
   ],
   "source": [
    "car_obj.vehicle1()"
   ]
  },
  {
   "cell_type": "code",
   "execution_count": 34,
   "id": "fcceb0ec-bf78-415b-a6f5-d582ebdc19de",
   "metadata": {},
   "outputs": [],
   "source": [
    "class seating_capacity:\n",
    "    def __init__(self,capacity,vehicle):\n",
    "        self.capacity=capacity\n",
    "        self.vehicle=vehicle\n",
    "        \n",
    "    def vehicle_det(self):\n",
    "        return self.capacity,self.vehicle"
   ]
  },
  {
   "cell_type": "code",
   "execution_count": 36,
   "id": "0ebe1f57-e836-44e6-93d2-b94cf97aff81",
   "metadata": {},
   "outputs": [],
   "source": [
    "sc=seating_capacity(6,\"innova\")"
   ]
  },
  {
   "cell_type": "code",
   "execution_count": 37,
   "id": "a484ef0d-a9a6-4612-81fc-a483218cb7ba",
   "metadata": {},
   "outputs": [
    {
     "data": {
      "text/plain": [
       "6"
      ]
     },
     "execution_count": 37,
     "metadata": {},
     "output_type": "execute_result"
    }
   ],
   "source": [
    "sc.capacity"
   ]
  },
  {
   "cell_type": "code",
   "execution_count": 38,
   "id": "07aa2e2d-99c1-4dc1-bb34-2b837e81001d",
   "metadata": {},
   "outputs": [
    {
     "data": {
      "text/plain": [
       "'innova'"
      ]
     },
     "execution_count": 38,
     "metadata": {},
     "output_type": "execute_result"
    }
   ],
   "source": [
    "sc.vehicle"
   ]
  },
  {
   "cell_type": "markdown",
   "id": "a90e7456-89d5-418b-88c3-8ebd94210b0e",
   "metadata": {},
   "source": [
    "Q3. What is multiple inheritance? Write a python code to demonstrate multiple inheritance."
   ]
  },
  {
   "cell_type": "markdown",
   "id": "e092f12f-f882-4204-8e29-59f634e17f55",
   "metadata": {},
   "source": [
    "inheritance means we can accesss methods and properties of other class."
   ]
  },
  {
   "cell_type": "code",
   "execution_count": 39,
   "id": "5836088b-58ba-47b4-88d3-374bbb924f7c",
   "metadata": {},
   "outputs": [],
   "source": [
    "class name:\n",
    "    def myname(self):\n",
    "        print(\"sanjay\")"
   ]
  },
  {
   "cell_type": "code",
   "execution_count": 41,
   "id": "df95f112-313a-4bf4-bac5-deb7705c21db",
   "metadata": {},
   "outputs": [],
   "source": [
    "class surname(name):\n",
    "    def mysurmane(self):\n",
    "        print(\"mengde\")"
   ]
  },
  {
   "cell_type": "code",
   "execution_count": 44,
   "id": "6b749405-e00e-44f7-9f35-520810b2bdb7",
   "metadata": {},
   "outputs": [],
   "source": [
    "class fullname(surname):\n",
    "    def my_name(self):\n",
    "        print(\"sanjay mengde\")"
   ]
  },
  {
   "cell_type": "code",
   "execution_count": 45,
   "id": "3cbde7d6-4fd5-4ac5-aee4-dee1664ae410",
   "metadata": {},
   "outputs": [],
   "source": [
    "obj_fullname=fullname()"
   ]
  },
  {
   "cell_type": "code",
   "execution_count": 46,
   "id": "be1affbd-4587-4d76-a5e1-2cb099b37f7f",
   "metadata": {},
   "outputs": [
    {
     "name": "stdout",
     "output_type": "stream",
     "text": [
      "sanjay\n"
     ]
    }
   ],
   "source": [
    "obj_fullname.myname()"
   ]
  },
  {
   "cell_type": "code",
   "execution_count": 47,
   "id": "846ac114-38d7-416f-99f6-9f6ced9d7722",
   "metadata": {},
   "outputs": [
    {
     "name": "stdout",
     "output_type": "stream",
     "text": [
      "mengde\n"
     ]
    }
   ],
   "source": [
    "obj_fullname.mysurmane()"
   ]
  },
  {
   "cell_type": "code",
   "execution_count": 48,
   "id": "f785958f-6334-4733-9bbf-47b94c5537c6",
   "metadata": {},
   "outputs": [
    {
     "name": "stdout",
     "output_type": "stream",
     "text": [
      "sanjay mengde\n"
     ]
    }
   ],
   "source": [
    "obj_fullname.my_name()"
   ]
  },
  {
   "cell_type": "markdown",
   "id": "2e4ae568-a1a0-4792-8b2b-7b1faab15f59",
   "metadata": {},
   "source": [
    "Q4. What are getter and setter in python? Create a class and create a getter and a setter method in this\n",
    "class."
   ]
  },
  {
   "cell_type": "markdown",
   "id": "3c92e577-4102-4936-9598-679b48051bca",
   "metadata": {},
   "source": [
    "getter get the current attribute value.\n",
    "setter change the attribute value."
   ]
  },
  {
   "cell_type": "code",
   "execution_count": 50,
   "id": "8054421d-2633-4234-b77c-7d7fae36c0c7",
   "metadata": {},
   "outputs": [],
   "source": [
    "class myage:\n",
    "    def __init__(self,age=0):\n",
    "        self._age=age\n",
    "        \n",
    "    def get_age(self):\n",
    "        return self._age\n",
    "    \n",
    "    def set_age(self,a):\n",
    "        self._age=a"
   ]
  },
  {
   "cell_type": "code",
   "execution_count": 51,
   "id": "4cd421dd-ef46-4803-890b-16a61f3c6266",
   "metadata": {},
   "outputs": [],
   "source": [
    "sanjay=myage()"
   ]
  },
  {
   "cell_type": "code",
   "execution_count": 52,
   "id": "de52e1cb-5a99-42ea-9886-f06c12cffcfb",
   "metadata": {},
   "outputs": [],
   "source": [
    "sanjay.set_age(22)"
   ]
  },
  {
   "cell_type": "code",
   "execution_count": 53,
   "id": "0b8905d4-f41c-4bca-bfb1-c41026ae8357",
   "metadata": {},
   "outputs": [
    {
     "data": {
      "text/plain": [
       "22"
      ]
     },
     "execution_count": 53,
     "metadata": {},
     "output_type": "execute_result"
    }
   ],
   "source": [
    "sanjay.get_age()"
   ]
  },
  {
   "cell_type": "markdown",
   "id": "e19c174d-13c5-4c12-9b53-7b128eb9b496",
   "metadata": {},
   "source": [
    "Q5.What is method overriding in python? Write a python code to demonstrate method overriding."
   ]
  },
  {
   "cell_type": "code",
   "execution_count": 54,
   "id": "17e8902c-c56a-4191-9f53-dfca0880c9cd",
   "metadata": {},
   "outputs": [],
   "source": [
    "class bike:\n",
    "    def power(self):\n",
    "        print(\"this is bike power\")"
   ]
  },
  {
   "cell_type": "code",
   "execution_count": 55,
   "id": "1e09cfe8-e9b7-4316-ae79-a815d8a4742a",
   "metadata": {},
   "outputs": [],
   "source": [
    "class yamaha(bike):\n",
    "    def power(self):\n",
    "        print(\"1000 cc\")"
   ]
  },
  {
   "cell_type": "code",
   "execution_count": 56,
   "id": "0f5a79ac-8809-4155-9a1a-be1cc5366bf8",
   "metadata": {},
   "outputs": [],
   "source": [
    "class honda(bike):\n",
    "    def power(self):\n",
    "        print(\"600 cc\")"
   ]
  },
  {
   "cell_type": "code",
   "execution_count": 59,
   "id": "50d02b2c-b0c6-4722-9634-a81ae272b04f",
   "metadata": {},
   "outputs": [],
   "source": [
    "yamaha=yamaha()\n",
    "honda=honda()"
   ]
  },
  {
   "cell_type": "code",
   "execution_count": 60,
   "id": "18fb29ec-5728-47dc-84dc-833e678390fa",
   "metadata": {},
   "outputs": [
    {
     "name": "stdout",
     "output_type": "stream",
     "text": [
      "1000 cc\n"
     ]
    }
   ],
   "source": [
    "yamaha.power()"
   ]
  },
  {
   "cell_type": "markdown",
   "id": "f481fc70-47d1-4619-9079-621d771df86e",
   "metadata": {},
   "source": [
    "overriding means differen mehthod with same task."
   ]
  },
  {
   "cell_type": "code",
   "execution_count": null,
   "id": "74ef31e2-ad87-4e04-8177-9dc80ceb2ea2",
   "metadata": {},
   "outputs": [],
   "source": []
  }
 ],
 "metadata": {
  "kernelspec": {
   "display_name": "Python 3 (ipykernel)",
   "language": "python",
   "name": "python3"
  },
  "language_info": {
   "codemirror_mode": {
    "name": "ipython",
    "version": 3
   },
   "file_extension": ".py",
   "mimetype": "text/x-python",
   "name": "python",
   "nbconvert_exporter": "python",
   "pygments_lexer": "ipython3",
   "version": "3.10.8"
  }
 },
 "nbformat": 4,
 "nbformat_minor": 5
}
